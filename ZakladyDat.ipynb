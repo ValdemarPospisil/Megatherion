{
 "cells": [
  {
   "cell_type": "code",
   "execution_count": 1,
   "metadata": {},
   "outputs": [
    {
     "data": {
      "text/html": [
       "<div>\n",
       "<style scoped>\n",
       "    .dataframe tbody tr th:only-of-type {\n",
       "        vertical-align: middle;\n",
       "    }\n",
       "\n",
       "    .dataframe tbody tr th {\n",
       "        vertical-align: top;\n",
       "    }\n",
       "\n",
       "    .dataframe thead th {\n",
       "        text-align: right;\n",
       "    }\n",
       "</style>\n",
       "<table border=\"1\" class=\"dataframe\">\n",
       "  <thead>\n",
       "    <tr style=\"text-align: right;\">\n",
       "      <th></th>\n",
       "      <th>Jméno</th>\n",
       "      <th>Od</th>\n",
       "      <th>Do</th>\n",
       "      <th>Dosud na UJEP?</th>\n",
       "    </tr>\n",
       "  </thead>\n",
       "  <tbody>\n",
       "    <tr>\n",
       "      <th>0</th>\n",
       "      <td>Doc. RNDr. Jan Kopka, CSc.</td>\n",
       "      <td>1987</td>\n",
       "      <td>1991</td>\n",
       "      <td>NE</td>\n",
       "    </tr>\n",
       "    <tr>\n",
       "      <th>1</th>\n",
       "      <td>Ing. Zdeněk Fikar</td>\n",
       "      <td>1991</td>\n",
       "      <td>1993</td>\n",
       "      <td>NE</td>\n",
       "    </tr>\n",
       "    <tr>\n",
       "      <th>2</th>\n",
       "      <td>Ing. Mgr. Jiří Barilla</td>\n",
       "      <td>1993</td>\n",
       "      <td>1996</td>\n",
       "      <td>ANO</td>\n",
       "    </tr>\n",
       "    <tr>\n",
       "      <th>3</th>\n",
       "      <td>Doc. Ing. Prokop Toman, CSc.</td>\n",
       "      <td>1996</td>\n",
       "      <td>2001</td>\n",
       "      <td>NE</td>\n",
       "    </tr>\n",
       "    <tr>\n",
       "      <th>4</th>\n",
       "      <td>Ing. Mgr. Jiří Barilla, CSc.</td>\n",
       "      <td>2001</td>\n",
       "      <td>2006</td>\n",
       "      <td>ANO</td>\n",
       "    </tr>\n",
       "    <tr>\n",
       "      <th>5</th>\n",
       "      <td>Prof. RNDr. Ivo Nezbeda, DrSc.</td>\n",
       "      <td>2006</td>\n",
       "      <td>2008</td>\n",
       "      <td>ANO</td>\n",
       "    </tr>\n",
       "    <tr>\n",
       "      <th>6</th>\n",
       "      <td>Doc. RNDr. Viktor Mashkov, DrSc.</td>\n",
       "      <td>2009</td>\n",
       "      <td>2011</td>\n",
       "      <td>ANO</td>\n",
       "    </tr>\n",
       "    <tr>\n",
       "      <th>7</th>\n",
       "      <td>prof. RNDr. Stanislav Novák, CSc.</td>\n",
       "      <td>2011</td>\n",
       "      <td>2014</td>\n",
       "      <td>ANO</td>\n",
       "    </tr>\n",
       "    <tr>\n",
       "      <th>8</th>\n",
       "      <td>RNDr. Jiří Škvor, Ph.D.</td>\n",
       "      <td>2014</td>\n",
       "      <td>Dosud</td>\n",
       "      <td>ANO</td>\n",
       "    </tr>\n",
       "  </tbody>\n",
       "</table>\n",
       "</div>"
      ],
      "text/plain": [
       "                               Jméno    Od     Do Dosud na UJEP?\n",
       "0         Doc. RNDr. Jan Kopka, CSc.  1987   1991             NE\n",
       "1                  Ing. Zdeněk Fikar  1991   1993             NE\n",
       "2             Ing. Mgr. Jiří Barilla  1993   1996            ANO\n",
       "3       Doc. Ing. Prokop Toman, CSc.  1996   2001             NE\n",
       "4       Ing. Mgr. Jiří Barilla, CSc.  2001   2006            ANO\n",
       "5     Prof. RNDr. Ivo Nezbeda, DrSc.  2006   2008            ANO\n",
       "6   Doc. RNDr. Viktor Mashkov, DrSc.  2009   2011            ANO\n",
       "7  prof. RNDr. Stanislav Novák, CSc.  2011   2014            ANO\n",
       "8            RNDr. Jiří Škvor, Ph.D.  2014  Dosud            ANO"
      ]
     },
     "execution_count": 1,
     "metadata": {},
     "output_type": "execute_result"
    }
   ],
   "source": [
    "import pandas as pd\n",
    "\n",
    "seznam_tabulek = pd.read_html(\"https://ki.ujep.cz/cs/historie/\",header=0)\n",
    "df = seznam_tabulek[1]\n"
   ]
  },
  {
   "cell_type": "code",
   "execution_count": 4,
   "metadata": {},
   "outputs": [
    {
     "data": {
      "text/html": [
       "<div>\n",
       "<style scoped>\n",
       "    .dataframe tbody tr th:only-of-type {\n",
       "        vertical-align: middle;\n",
       "    }\n",
       "\n",
       "    .dataframe tbody tr th {\n",
       "        vertical-align: top;\n",
       "    }\n",
       "\n",
       "    .dataframe thead th {\n",
       "        text-align: right;\n",
       "    }\n",
       "</style>\n",
       "<table border=\"1\" class=\"dataframe\">\n",
       "  <thead>\n",
       "    <tr style=\"text-align: right;\">\n",
       "      <th></th>\n",
       "      <th>Jméno</th>\n",
       "      <th>Od</th>\n",
       "      <th>Do</th>\n",
       "      <th>Dosud na UJEP?</th>\n",
       "    </tr>\n",
       "  </thead>\n",
       "  <tbody>\n",
       "    <tr>\n",
       "      <th>4</th>\n",
       "      <td>Ing. Mgr. Jiří Barilla, CSc.</td>\n",
       "      <td>2001</td>\n",
       "      <td>2006</td>\n",
       "      <td>ANO</td>\n",
       "    </tr>\n",
       "    <tr>\n",
       "      <th>5</th>\n",
       "      <td>Prof. RNDr. Ivo Nezbeda, DrSc.</td>\n",
       "      <td>2006</td>\n",
       "      <td>2008</td>\n",
       "      <td>ANO</td>\n",
       "    </tr>\n",
       "    <tr>\n",
       "      <th>6</th>\n",
       "      <td>Doc. RNDr. Viktor Mashkov, DrSc.</td>\n",
       "      <td>2009</td>\n",
       "      <td>2011</td>\n",
       "      <td>ANO</td>\n",
       "    </tr>\n",
       "    <tr>\n",
       "      <th>7</th>\n",
       "      <td>prof. RNDr. Stanislav Novák, CSc.</td>\n",
       "      <td>2011</td>\n",
       "      <td>2014</td>\n",
       "      <td>ANO</td>\n",
       "    </tr>\n",
       "    <tr>\n",
       "      <th>8</th>\n",
       "      <td>RNDr. Jiří Škvor, Ph.D.</td>\n",
       "      <td>2014</td>\n",
       "      <td>Dosud</td>\n",
       "      <td>ANO</td>\n",
       "    </tr>\n",
       "  </tbody>\n",
       "</table>\n",
       "</div>"
      ],
      "text/plain": [
       "                               Jméno    Od     Do Dosud na UJEP?\n",
       "4       Ing. Mgr. Jiří Barilla, CSc.  2001   2006            ANO\n",
       "5     Prof. RNDr. Ivo Nezbeda, DrSc.  2006   2008            ANO\n",
       "6   Doc. RNDr. Viktor Mashkov, DrSc.  2009   2011            ANO\n",
       "7  prof. RNDr. Stanislav Novák, CSc.  2011   2014            ANO\n",
       "8            RNDr. Jiří Škvor, Ph.D.  2014  Dosud            ANO"
      ]
     },
     "execution_count": 4,
     "metadata": {},
     "output_type": "execute_result"
    }
   ],
   "source": [
    "df.head()\n",
    "df.tail()"
   ]
  },
  {
   "cell_type": "code",
   "execution_count": 5,
   "metadata": {},
   "outputs": [
    {
     "name": "stdout",
     "output_type": "stream",
     "text": [
      "<class 'pandas.core.frame.DataFrame'>\n",
      "RangeIndex: 9 entries, 0 to 8\n",
      "Data columns (total 4 columns):\n",
      " #   Column          Non-Null Count  Dtype \n",
      "---  ------          --------------  ----- \n",
      " 0   Jméno           9 non-null      object\n",
      " 1   Od              9 non-null      int64 \n",
      " 2   Do              9 non-null      object\n",
      " 3   Dosud na UJEP?  9 non-null      object\n",
      "dtypes: int64(1), object(3)\n",
      "memory usage: 416.0+ bytes\n"
     ]
    }
   ],
   "source": [
    "df.info()"
   ]
  },
  {
   "cell_type": "code",
   "execution_count": 6,
   "metadata": {},
   "outputs": [
    {
     "data": {
      "text/html": [
       "<div>\n",
       "<style scoped>\n",
       "    .dataframe tbody tr th:only-of-type {\n",
       "        vertical-align: middle;\n",
       "    }\n",
       "\n",
       "    .dataframe tbody tr th {\n",
       "        vertical-align: top;\n",
       "    }\n",
       "\n",
       "    .dataframe thead th {\n",
       "        text-align: right;\n",
       "    }\n",
       "</style>\n",
       "<table border=\"1\" class=\"dataframe\">\n",
       "  <thead>\n",
       "    <tr style=\"text-align: right;\">\n",
       "      <th></th>\n",
       "      <th>Od</th>\n",
       "    </tr>\n",
       "  </thead>\n",
       "  <tbody>\n",
       "    <tr>\n",
       "      <th>count</th>\n",
       "      <td>9.000000</td>\n",
       "    </tr>\n",
       "    <tr>\n",
       "      <th>mean</th>\n",
       "      <td>2000.888889</td>\n",
       "    </tr>\n",
       "    <tr>\n",
       "      <th>std</th>\n",
       "      <td>9.636447</td>\n",
       "    </tr>\n",
       "    <tr>\n",
       "      <th>min</th>\n",
       "      <td>1987.000000</td>\n",
       "    </tr>\n",
       "    <tr>\n",
       "      <th>25%</th>\n",
       "      <td>1993.000000</td>\n",
       "    </tr>\n",
       "    <tr>\n",
       "      <th>50%</th>\n",
       "      <td>2001.000000</td>\n",
       "    </tr>\n",
       "    <tr>\n",
       "      <th>75%</th>\n",
       "      <td>2009.000000</td>\n",
       "    </tr>\n",
       "    <tr>\n",
       "      <th>max</th>\n",
       "      <td>2014.000000</td>\n",
       "    </tr>\n",
       "  </tbody>\n",
       "</table>\n",
       "</div>"
      ],
      "text/plain": [
       "                Od\n",
       "count     9.000000\n",
       "mean   2000.888889\n",
       "std       9.636447\n",
       "min    1987.000000\n",
       "25%    1993.000000\n",
       "50%    2001.000000\n",
       "75%    2009.000000\n",
       "max    2014.000000"
      ]
     },
     "execution_count": 6,
     "metadata": {},
     "output_type": "execute_result"
    }
   ],
   "source": [
    "df.describe()"
   ]
  },
  {
   "cell_type": "code",
   "execution_count": 7,
   "metadata": {},
   "outputs": [
    {
     "data": {
      "text/plain": [
       "0     1991\n",
       "1     1993\n",
       "2     1996\n",
       "3     2001\n",
       "4     2006\n",
       "5     2008\n",
       "6     2011\n",
       "7     2014\n",
       "8    Dosud\n",
       "Name: Do, dtype: object"
      ]
     },
     "execution_count": 7,
     "metadata": {},
     "output_type": "execute_result"
    }
   ],
   "source": [
    "# indexace pandas dataframů\n",
    "\n",
    "# slovníková indexace\n",
    "\n",
    "df[\"Do\"] # indexujeme celý sloupec -> objekt pandas series"
   ]
  },
  {
   "cell_type": "code",
   "execution_count": 8,
   "metadata": {},
   "outputs": [
    {
     "data": {
      "text/html": [
       "<div>\n",
       "<style scoped>\n",
       "    .dataframe tbody tr th:only-of-type {\n",
       "        vertical-align: middle;\n",
       "    }\n",
       "\n",
       "    .dataframe tbody tr th {\n",
       "        vertical-align: top;\n",
       "    }\n",
       "\n",
       "    .dataframe thead th {\n",
       "        text-align: right;\n",
       "    }\n",
       "</style>\n",
       "<table border=\"1\" class=\"dataframe\">\n",
       "  <thead>\n",
       "    <tr style=\"text-align: right;\">\n",
       "      <th></th>\n",
       "      <th>Do</th>\n",
       "      <th>Od</th>\n",
       "    </tr>\n",
       "  </thead>\n",
       "  <tbody>\n",
       "    <tr>\n",
       "      <th>0</th>\n",
       "      <td>1991</td>\n",
       "      <td>1987</td>\n",
       "    </tr>\n",
       "    <tr>\n",
       "      <th>1</th>\n",
       "      <td>1993</td>\n",
       "      <td>1991</td>\n",
       "    </tr>\n",
       "    <tr>\n",
       "      <th>2</th>\n",
       "      <td>1996</td>\n",
       "      <td>1993</td>\n",
       "    </tr>\n",
       "    <tr>\n",
       "      <th>3</th>\n",
       "      <td>2001</td>\n",
       "      <td>1996</td>\n",
       "    </tr>\n",
       "    <tr>\n",
       "      <th>4</th>\n",
       "      <td>2006</td>\n",
       "      <td>2001</td>\n",
       "    </tr>\n",
       "    <tr>\n",
       "      <th>5</th>\n",
       "      <td>2008</td>\n",
       "      <td>2006</td>\n",
       "    </tr>\n",
       "    <tr>\n",
       "      <th>6</th>\n",
       "      <td>2011</td>\n",
       "      <td>2009</td>\n",
       "    </tr>\n",
       "    <tr>\n",
       "      <th>7</th>\n",
       "      <td>2014</td>\n",
       "      <td>2011</td>\n",
       "    </tr>\n",
       "    <tr>\n",
       "      <th>8</th>\n",
       "      <td>Dosud</td>\n",
       "      <td>2014</td>\n",
       "    </tr>\n",
       "  </tbody>\n",
       "</table>\n",
       "</div>"
      ],
      "text/plain": [
       "      Do    Od\n",
       "0   1991  1987\n",
       "1   1993  1991\n",
       "2   1996  1993\n",
       "3   2001  1996\n",
       "4   2006  2001\n",
       "5   2008  2006\n",
       "6   2011  2009\n",
       "7   2014  2011\n",
       "8  Dosud  2014"
      ]
     },
     "execution_count": 8,
     "metadata": {},
     "output_type": "execute_result"
    }
   ],
   "source": [
    "df[[\"Do\",\"Od\"]] #výběr vícero sloupců -> výsledkem je tabulka"
   ]
  },
  {
   "cell_type": "code",
   "execution_count": 10,
   "metadata": {},
   "outputs": [
    {
     "name": "stdout",
     "output_type": "stream",
     "text": [
      "Prof. RNDr. Ivo Nezbeda, DrSc.\n"
     ]
    }
   ],
   "source": [
    "# klasická poziční indexace\n",
    "df.loc[1,\"Od\"]\n",
    "print(df.iloc[5,0])"
   ]
  },
  {
   "cell_type": "code",
   "execution_count": 11,
   "metadata": {},
   "outputs": [
    {
     "data": {
      "text/plain": [
       "0           Doc. RNDr. Jan Kopka, CSc.\n",
       "1                    Ing. Zdeněk Fikar\n",
       "2               Ing. Mgr. Jiří Barilla\n",
       "3         Doc. Ing. Prokop Toman, CSc.\n",
       "4         Ing. Mgr. Jiří Barilla, CSc.\n",
       "5       Prof. RNDr. Ivo Nezbeda, DrSc.\n",
       "6     Doc. RNDr. Viktor Mashkov, DrSc.\n",
       "7    prof. RNDr. Stanislav Novák, CSc.\n",
       "8              RNDr. Jiří Škvor, Ph.D.\n",
       "Name: Jméno, dtype: object"
      ]
     },
     "execution_count": 11,
     "metadata": {},
     "output_type": "execute_result"
    }
   ],
   "source": [
    "# indexace sloupce jako vlastnosti objektu dataframe\n",
    "df.Jméno"
   ]
  },
  {
   "cell_type": "code",
   "execution_count": 13,
   "metadata": {},
   "outputs": [
    {
     "data": {
      "text/html": [
       "<div>\n",
       "<style scoped>\n",
       "    .dataframe tbody tr th:only-of-type {\n",
       "        vertical-align: middle;\n",
       "    }\n",
       "\n",
       "    .dataframe tbody tr th {\n",
       "        vertical-align: top;\n",
       "    }\n",
       "\n",
       "    .dataframe thead th {\n",
       "        text-align: right;\n",
       "    }\n",
       "</style>\n",
       "<table border=\"1\" class=\"dataframe\">\n",
       "  <thead>\n",
       "    <tr style=\"text-align: right;\">\n",
       "      <th></th>\n",
       "      <th>Jméno</th>\n",
       "      <th>Od</th>\n",
       "      <th>Do</th>\n",
       "      <th>Dosud na UJEP?</th>\n",
       "    </tr>\n",
       "  </thead>\n",
       "  <tbody>\n",
       "    <tr>\n",
       "      <th>0</th>\n",
       "      <td>Doc. RNDr. Jan Kopka, CSc.</td>\n",
       "      <td>1987</td>\n",
       "      <td>1991</td>\n",
       "      <td>NE</td>\n",
       "    </tr>\n",
       "    <tr>\n",
       "      <th>1</th>\n",
       "      <td>Ing. Zdeněk Fikar</td>\n",
       "      <td>1991</td>\n",
       "      <td>1993</td>\n",
       "      <td>NE</td>\n",
       "    </tr>\n",
       "    <tr>\n",
       "      <th>2</th>\n",
       "      <td>Ing. Mgr. Jiří Barilla</td>\n",
       "      <td>1993</td>\n",
       "      <td>1996</td>\n",
       "      <td>ANO</td>\n",
       "    </tr>\n",
       "    <tr>\n",
       "      <th>3</th>\n",
       "      <td>Doc. Ing. Prokop Toman, CSc.</td>\n",
       "      <td>1996</td>\n",
       "      <td>2001</td>\n",
       "      <td>NE</td>\n",
       "    </tr>\n",
       "  </tbody>\n",
       "</table>\n",
       "</div>"
      ],
      "text/plain": [
       "                          Jméno    Od    Do Dosud na UJEP?\n",
       "0    Doc. RNDr. Jan Kopka, CSc.  1987  1991             NE\n",
       "1             Ing. Zdeněk Fikar  1991  1993             NE\n",
       "2        Ing. Mgr. Jiří Barilla  1993  1996            ANO\n",
       "3  Doc. Ing. Prokop Toman, CSc.  1996  2001             NE"
      ]
     },
     "execution_count": 13,
     "metadata": {},
     "output_type": "execute_result"
    }
   ],
   "source": [
    "# filtrace tabulky\n",
    "\n",
    "df[df.Od < 2000] # df.filter()"
   ]
  },
  {
   "cell_type": "code",
   "execution_count": 16,
   "metadata": {},
   "outputs": [
    {
     "data": {
      "text/html": [
       "<div>\n",
       "<style scoped>\n",
       "    .dataframe tbody tr th:only-of-type {\n",
       "        vertical-align: middle;\n",
       "    }\n",
       "\n",
       "    .dataframe tbody tr th {\n",
       "        vertical-align: top;\n",
       "    }\n",
       "\n",
       "    .dataframe thead th {\n",
       "        text-align: right;\n",
       "    }\n",
       "</style>\n",
       "<table border=\"1\" class=\"dataframe\">\n",
       "  <thead>\n",
       "    <tr style=\"text-align: right;\">\n",
       "      <th></th>\n",
       "      <th>Jméno</th>\n",
       "      <th>Od</th>\n",
       "      <th>Do</th>\n",
       "    </tr>\n",
       "    <tr>\n",
       "      <th>Dosud na UJEP?</th>\n",
       "      <th></th>\n",
       "      <th></th>\n",
       "      <th></th>\n",
       "    </tr>\n",
       "  </thead>\n",
       "  <tbody>\n",
       "    <tr>\n",
       "      <th>ANO</th>\n",
       "      <td>6</td>\n",
       "      <td>6</td>\n",
       "      <td>6</td>\n",
       "    </tr>\n",
       "    <tr>\n",
       "      <th>NE</th>\n",
       "      <td>3</td>\n",
       "      <td>3</td>\n",
       "      <td>3</td>\n",
       "    </tr>\n",
       "  </tbody>\n",
       "</table>\n",
       "</div>"
      ],
      "text/plain": [
       "                Jméno  Od  Do\n",
       "Dosud na UJEP?               \n",
       "ANO                 6   6   6\n",
       "NE                  3   3   3"
      ]
     },
     "execution_count": 16,
     "metadata": {},
     "output_type": "execute_result"
    }
   ],
   "source": [
    "# agregace dat\n",
    "\n",
    "df.groupby(\"Dosud na UJEP?\").count()"
   ]
  },
  {
   "cell_type": "code",
   "execution_count": null,
   "metadata": {},
   "outputs": [],
   "source": [
    "# joiny\n",
    "\n",
    "df.inner_join()\n",
    "df.right_join()\n",
    "df.left_join()\n",
    "df.full_join()"
   ]
  },
  {
   "cell_type": "code",
   "execution_count": 17,
   "metadata": {},
   "outputs": [
    {
     "data": {
      "text/html": [
       "<div>\n",
       "<style scoped>\n",
       "    .dataframe tbody tr th:only-of-type {\n",
       "        vertical-align: middle;\n",
       "    }\n",
       "\n",
       "    .dataframe tbody tr th {\n",
       "        vertical-align: top;\n",
       "    }\n",
       "\n",
       "    .dataframe thead th {\n",
       "        text-align: right;\n",
       "    }\n",
       "</style>\n",
       "<table border=\"1\" class=\"dataframe\">\n",
       "  <thead>\n",
       "    <tr style=\"text-align: right;\">\n",
       "      <th></th>\n",
       "      <th>Od</th>\n",
       "      <th>Do</th>\n",
       "      <th>Dosud na UJEP?</th>\n",
       "    </tr>\n",
       "  </thead>\n",
       "  <tbody>\n",
       "    <tr>\n",
       "      <th>0</th>\n",
       "      <td>1987</td>\n",
       "      <td>1991</td>\n",
       "      <td>NE</td>\n",
       "    </tr>\n",
       "    <tr>\n",
       "      <th>1</th>\n",
       "      <td>1991</td>\n",
       "      <td>1993</td>\n",
       "      <td>NE</td>\n",
       "    </tr>\n",
       "    <tr>\n",
       "      <th>2</th>\n",
       "      <td>1993</td>\n",
       "      <td>1996</td>\n",
       "      <td>ANO</td>\n",
       "    </tr>\n",
       "    <tr>\n",
       "      <th>3</th>\n",
       "      <td>1996</td>\n",
       "      <td>2001</td>\n",
       "      <td>NE</td>\n",
       "    </tr>\n",
       "    <tr>\n",
       "      <th>4</th>\n",
       "      <td>2001</td>\n",
       "      <td>2006</td>\n",
       "      <td>ANO</td>\n",
       "    </tr>\n",
       "    <tr>\n",
       "      <th>5</th>\n",
       "      <td>2006</td>\n",
       "      <td>2008</td>\n",
       "      <td>ANO</td>\n",
       "    </tr>\n",
       "    <tr>\n",
       "      <th>6</th>\n",
       "      <td>2009</td>\n",
       "      <td>2011</td>\n",
       "      <td>ANO</td>\n",
       "    </tr>\n",
       "    <tr>\n",
       "      <th>7</th>\n",
       "      <td>2011</td>\n",
       "      <td>2014</td>\n",
       "      <td>ANO</td>\n",
       "    </tr>\n",
       "    <tr>\n",
       "      <th>8</th>\n",
       "      <td>2014</td>\n",
       "      <td>Dosud</td>\n",
       "      <td>ANO</td>\n",
       "    </tr>\n",
       "  </tbody>\n",
       "</table>\n",
       "</div>"
      ],
      "text/plain": [
       "     Od     Do Dosud na UJEP?\n",
       "0  1987   1991             NE\n",
       "1  1991   1993             NE\n",
       "2  1993   1996            ANO\n",
       "3  1996   2001             NE\n",
       "4  2001   2006            ANO\n",
       "5  2006   2008            ANO\n",
       "6  2009   2011            ANO\n",
       "7  2011   2014            ANO\n",
       "8  2014  Dosud            ANO"
      ]
     },
     "execution_count": 17,
     "metadata": {},
     "output_type": "execute_result"
    }
   ],
   "source": [
    "df2= df.drop(\"Jméno\",axis=1)\n",
    "df2"
   ]
  },
  {
   "cell_type": "code",
   "execution_count": 18,
   "metadata": {},
   "outputs": [
    {
     "data": {
      "text/html": [
       "<div>\n",
       "<style scoped>\n",
       "    .dataframe tbody tr th:only-of-type {\n",
       "        vertical-align: middle;\n",
       "    }\n",
       "\n",
       "    .dataframe tbody tr th {\n",
       "        vertical-align: top;\n",
       "    }\n",
       "\n",
       "    .dataframe thead th {\n",
       "        text-align: right;\n",
       "    }\n",
       "</style>\n",
       "<table border=\"1\" class=\"dataframe\">\n",
       "  <thead>\n",
       "    <tr style=\"text-align: right;\">\n",
       "      <th></th>\n",
       "      <th>Jméno</th>\n",
       "      <th>Od</th>\n",
       "      <th>Do</th>\n",
       "      <th>Dosud na UJEP?</th>\n",
       "    </tr>\n",
       "  </thead>\n",
       "  <tbody>\n",
       "    <tr>\n",
       "      <th>0</th>\n",
       "      <td>Doc. RNDr. Jan Kopka, CSc.</td>\n",
       "      <td>1987</td>\n",
       "      <td>1991</td>\n",
       "      <td>NE</td>\n",
       "    </tr>\n",
       "    <tr>\n",
       "      <th>2</th>\n",
       "      <td>Ing. Mgr. Jiří Barilla</td>\n",
       "      <td>1993</td>\n",
       "      <td>1996</td>\n",
       "      <td>ANO</td>\n",
       "    </tr>\n",
       "  </tbody>\n",
       "</table>\n",
       "</div>"
      ],
      "text/plain": [
       "                        Jméno    Od    Do Dosud na UJEP?\n",
       "0  Doc. RNDr. Jan Kopka, CSc.  1987  1991             NE\n",
       "2      Ing. Mgr. Jiří Barilla  1993  1996            ANO"
      ]
     },
     "execution_count": 18,
     "metadata": {},
     "output_type": "execute_result"
    }
   ],
   "source": [
    "df.drop_duplicates(\"Dosud na UJEP?\")"
   ]
  },
  {
   "cell_type": "code",
   "execution_count": null,
   "metadata": {},
   "outputs": [],
   "source": [
    "df.dropna()\n",
    "df.fillna()"
   ]
  },
  {
   "cell_type": "code",
   "execution_count": 19,
   "metadata": {},
   "outputs": [
    {
     "data": {
      "text/plain": [
       "Jméno             9\n",
       "Od                9\n",
       "Do                9\n",
       "Dosud na UJEP?    9\n",
       "dtype: int64"
      ]
     },
     "execution_count": 19,
     "metadata": {},
     "output_type": "execute_result"
    }
   ],
   "source": [
    "df.apply(len)"
   ]
  },
  {
   "cell_type": "code",
   "execution_count": 2,
   "metadata": {},
   "outputs": [
    {
     "data": {
      "text/html": [
       "<div>\n",
       "<style scoped>\n",
       "    .dataframe tbody tr th:only-of-type {\n",
       "        vertical-align: middle;\n",
       "    }\n",
       "\n",
       "    .dataframe tbody tr th {\n",
       "        vertical-align: top;\n",
       "    }\n",
       "\n",
       "    .dataframe thead th {\n",
       "        text-align: right;\n",
       "    }\n",
       "</style>\n",
       "<table border=\"1\" class=\"dataframe\">\n",
       "  <thead>\n",
       "    <tr style=\"text-align: right;\">\n",
       "      <th></th>\n",
       "      <th>id</th>\n",
       "      <th>val1_x</th>\n",
       "      <th>val1_y</th>\n",
       "    </tr>\n",
       "  </thead>\n",
       "  <tbody>\n",
       "    <tr>\n",
       "      <th>0</th>\n",
       "      <td>1</td>\n",
       "      <td>a</td>\n",
       "      <td>p</td>\n",
       "    </tr>\n",
       "    <tr>\n",
       "      <th>1</th>\n",
       "      <td>2</td>\n",
       "      <td>b</td>\n",
       "      <td>q</td>\n",
       "    </tr>\n",
       "  </tbody>\n",
       "</table>\n",
       "</div>"
      ],
      "text/plain": [
       "   id val1_x val1_y\n",
       "0   1      a      p\n",
       "1   2      b      q"
      ]
     },
     "execution_count": 2,
     "metadata": {},
     "output_type": "execute_result"
    }
   ],
   "source": [
    "# Creating dataframe a\n",
    "a = pd.DataFrame()\n",
    " \n",
    "# Creating Dictionary\n",
    "d = {'id': [1, 2, 10, 12],\n",
    "     'val1': ['a', 'b', 'c', 'd']}\n",
    " \n",
    "a = pd.DataFrame(d)\n",
    " \n",
    "# Creating dataframe b\n",
    "b = pd.DataFrame()\n",
    " \n",
    "# Creating dictionary\n",
    "d = {'id': [1, 2, 9, 8],\n",
    "     'val1': ['p', 'q', 'r', 's']}\n",
    "b = pd.DataFrame(d)\n",
    " \n",
    "# inner join\n",
    "df = pd.merge(a, b, on='id', how='inner') \n",
    "# display dataframe\n",
    "df"
   ]
  }
 ],
 "metadata": {
  "kernelspec": {
   "display_name": "Python 3",
   "language": "python",
   "name": "python3"
  },
  "language_info": {
   "codemirror_mode": {
    "name": "ipython",
    "version": 3
   },
   "file_extension": ".py",
   "mimetype": "text/x-python",
   "name": "python",
   "nbconvert_exporter": "python",
   "pygments_lexer": "ipython3",
   "version": "3.10.12"
  }
 },
 "nbformat": 4,
 "nbformat_minor": 2
}
